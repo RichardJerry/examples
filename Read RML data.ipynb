{
 "cells": [
  {
   "cell_type": "markdown",
   "metadata": {},
   "source": [
    "# import necessary modules"
   ]
  },
  {
   "cell_type": "code",
   "execution_count": 13,
   "metadata": {},
   "outputs": [],
   "source": [
    "# cPickle in python 3.X is replace by _pickle\n",
    "import _pickle as cPickle\n",
    "import numpy as np\n",
    "import matplotlib.pyplot as plt"
   ]
  },
  {
   "cell_type": "markdown",
   "metadata": {},
   "source": [
    "# 1. first step----load data"
   ]
  },
  {
   "cell_type": "code",
   "execution_count": 6,
   "metadata": {},
   "outputs": [],
   "source": [
    "Xd = cPickle.load(open(\"RML2016.10a_dict.dat\",'rb'),encoding='latin')\n",
    "snrs,mods = map(lambda j: sorted(list(set(map(lambda x: x[j], Xd.keys())))), [1,0])\n",
    "X = []  \n",
    "lbl = []\n",
    "for mod in mods:\n",
    "    for snr in snrs:\n",
    "        X.append(Xd[(mod,snr)])\n",
    "        for i in range(Xd[(mod,snr)].shape[0]):  lbl.append((mod,snr))\n",
    "X = np.vstack(X)"
   ]
  },
  {
   "cell_type": "markdown",
   "metadata": {},
   "source": [
    "## The data show\n",
    "* The Xd is the orgin data load from *RML2016.10a_dict.dat* is the dictionary type,represent by `(mod,snr)` such as `('QPSK', 2)`\n",
    "* The modulation is arrange by `8PSK`,`AM-DSB`,`AM-SSB`,`BPSK`,`CPFSK`,`GFSK`,`PAM4`,`QAM16`,`QAM64`,`QPSK` and `WBFM`\n",
    "* The Signal to noise ratio(snr) is range from -20 to 18,step 2 \n",
    "* The X shape is: \n",
    "``` pyhton \n",
    "X.shape = (22000,2,128)\n",
    "```\n",
    "------\n",
    "Accroding the [generate_RML2016.10a.py](https://github.com/radioML/dataset/blob/master/generate_RML2016.10a.py) ,`X[_][0]`is the Real of signal,`X[_][1]`is the Imaginary of signal\n",
    "``` python\n",
    "dataset[(mod_type.modname, snr)][modvec_indx,0,:] = np.real(sampled_vector)\n",
    "dataset[(mod_type.modname, snr)][modvec_indx,1,:] = np.imag(sampled_vector)\n",
    "```\n",
    "```python\n",
    "len(Xd.keys()) = 220\n",
    "```\n",
    "so, per moudlation have 1000 samples, such as `(8PSK,-20)`is `X[0:999]`,and so on\n",
    "-----\n",
    "Use the `matplotlib` to plot the real and Imaginary of signal in time domain:\n",
    "``` python\n",
    "plt.figure(figsize=[15,5])\n",
    "plt.subplot(121)\n",
    "plt.plot(X[0][0])\n",
    "plt.title('Real')\n",
    "plt.subplot(122)\n",
    "plt.plot(X[0][1])\n",
    "#plt.yticks([])\n",
    "plt.title('Imaginary')\n",
    "plt.show()\n",
    "```\n",
    "![](images/plot_signal.png)"
   ]
  },
  {
   "cell_type": "code",
   "execution_count": 92,
   "metadata": {},
   "outputs": [
    {
     "data": {
      "text/plain": [
       "[<matplotlib.lines.Line2D at 0x1210b8080>]"
      ]
     },
     "execution_count": 92,
     "metadata": {},
     "output_type": "execute_result"
    },
    {
     "data": {
      "image/png": "[encoded data removed]",
      "text/plain": [
       "<Figure size 432x288 with 1 Axes>"
      ]
     },
     "metadata": {
      "needs_background": "light"
     },
     "output_type": "display_data"
    }
   ],
   "source": [
    "plt.plot(X[20*999*4][0],X[20*999*4][1],'.')"
   ]
  }
 ],
 "metadata": {
  "kernelspec": {
   "display_name": "Python 3",
   "language": "python",
   "name": "python3"
  },
  "language_info": {
   "codemirror_mode": {
    "name": "ipython",
    "version": 3
   },
   "file_extension": ".py",
   "mimetype": "text/x-python",
   "name": "python",
   "nbconvert_exporter": "python",
   "pygments_lexer": "ipython3",
   "version": "3.7.0"
  }
 },
 "nbformat": 4,
 "nbformat_minor": 2
}
